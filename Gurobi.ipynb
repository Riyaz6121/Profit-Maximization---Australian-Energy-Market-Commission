{
 "cells": [
  {
   "cell_type": "code",
   "execution_count": 1,
   "metadata": {},
   "outputs": [],
   "source": [
    "import gurobipy as gp"
   ]
  },
  {
   "cell_type": "code",
   "execution_count": 2,
   "metadata": {},
   "outputs": [],
   "source": [
    "import pandas as pd\n",
    "import matplotlib.pyplot as plt\n",
    "import numpy as np\n",
    "import gurobipy as gp\n",
    "from gurobipy import GRB"
   ]
  },
  {
   "cell_type": "code",
   "execution_count": 3,
   "metadata": {},
   "outputs": [],
   "source": [
    "training_dataNSW = pd.read_csv('C:/Users/User/Desktop/DATA3001/JUPYTERDATAOUTPUT/Sarimax NSW.csv')\n",
    "multi_NSW_OUTPUT = pd.read_csv('C:/Users/User/Desktop/DATA3001/JUPYTERDATAOUTPUT/multi.csv')\n",
    "simple_NSW_OUTPUT= pd.read_csv('C:/Users/User/Desktop/DATA3001/JUPYTERDATAOUTPUT/simple.csv')\n",
    "\n",
    "\n",
    "#training_dataQLD = pd.read_csv('C:/Users/User/Desktop/DATA3001/JUPYTERDATAOUTPUT/.csv')\n",
    "#training_dataVIC = pd.read_csv('C:/Users/User/Desktop/DATA3001/JUPYTERDATAOUTPUT/.csv')\n",
    "#training_dataSA = pd.read_csv('C:/Users/User/Desktop/DATA3001/JUPYTERDATAOUTPUT/.csv')\n",
    "#training_dataTAS = pd.read_csv('C:/Users/User/Desktop/DATA3001/JUPYTERDATAOUTPUT/.csv')"
   ]
  },
  {
   "cell_type": "code",
   "execution_count": 4,
   "metadata": {},
   "outputs": [
    {
     "data": {
      "text/plain": [
       "0      72.76286\n",
       "1      74.35141\n",
       "2      73.35515\n",
       "3      69.65010\n",
       "4      63.79023\n",
       "         ...   \n",
       "284    82.11968\n",
       "285    76.68687\n",
       "286    76.19823\n",
       "287    73.92983\n",
       "288    74.03793\n",
       "Name: RRP, Length: 289, dtype: float64"
      ]
     },
     "execution_count": 4,
     "metadata": {},
     "output_type": "execute_result"
    }
   ],
   "source": [
    "#peaking window\n",
    "training_dataNSW = training_dataNSW['RRP']\n",
    "training_dataNSW"
   ]
  },
  {
   "cell_type": "code",
   "execution_count": 5,
   "metadata": {},
   "outputs": [],
   "source": [
    "#multi_NSW_OUTPUT['SETTLEMENTDATE']= pd.to_datetime(multi_NSW_OUTPUT['SETTLEMENTDATE'])\n",
    "#training_dataQLD['SETTLEMENTDATE']= pd.to_datetime(training_dataQLD['SETTLEMENTDATE'])\n",
    "#training_dataVIC['SETTLEMENTDATE']= pd.to_datetime(training_dataVIC['SETTLEMENTDATE'])\n",
    "#training_dataSA['SETTLEMENTDATE']= pd.to_datetime(training_dataSA['SETTLEMENTDATE'])\n",
    "#training_dataTAS['SETTLEMENTDATE']= pd.to_datetime(training_data['SETTLEMENTDATE'])\n"
   ]
  },
  {
   "cell_type": "code",
   "execution_count": 6,
   "metadata": {},
   "outputs": [],
   "source": [
    "#multi_NSW_OUTPUT = multi_NSW_OUTPUT['pred']\n",
    "#multi_NSW_OUTPUT[:24]['pred']"
   ]
  },
  {
   "cell_type": "code",
   "execution_count": 466,
   "metadata": {},
   "outputs": [],
   "source": [
    "multi_NSW_OUTPUT = multi_NSW_OUTPUT.set_index('SETTLEMENTDATE')\n",
    "#simple_NSW_OUTPUT \n",
    "#training_dataQLD = training_dataQLD.set_index('SETTLEMENTDATE')\n",
    "#training_dataVIC = training_dataVIC.set_index('SETTLEMENTDATE')\n",
    "#training_dataSA = training_dataSA.set_index('SETTLEMENTDATE')\n",
    "#training_dataTAS = training_dataTAS.set_index('SETTLEMENTDATE')"
   ]
  },
  {
   "cell_type": "code",
   "execution_count": 509,
   "metadata": {},
   "outputs": [],
   "source": [
    "#training_dataNSW.drop(['Unnamed: 0'], axis=1,inplace=True)\n",
    "#training_data1MonthNSW = training_dataNSW['2008-07-01 00:00:00':'2008-08-01 00:00:00']\n",
    "#testing_data1dayNSW = training_dataNSW['2016-07-02 00:00:05':'2016-10-02 00:00:05']\n",
    "#training_dataNSW['2008-07-01 00:00:00':'2008-08-01 00:00:00']\n",
    "\n",
    "simple_NSW_OUTPUT = simple_NSW_OUTPUT['pred']\n"
   ]
  },
  {
   "cell_type": "code",
   "execution_count": 477,
   "metadata": {},
   "outputs": [],
   "source": [
    "training_dataNSWsarimax = training_dataNSW['2018-06-30 00:00:00':'2018-07-01 00:00:00']\n",
    "#training_dataNSWARIMAx = training_dataNSW['2016-07-02 00:00:05':'2016-10-03 00:00:05']\n",
    "#training_dataNSWLR = #training_dataNSW['2016-07-02 00:00:05':'2016-10-03 00:00:05']\n",
    "\n",
    "#training_dataVICsarimax= #training_dataVIC['2008-08-01 00:00:00':'2008-08-02 00:00:00']\n",
    "#training_dataVICARIMAx= training_dataVIC['2008-08-01 00:00:00':'2008-08-02 00:00:00']\n",
    "#training_dataVICLR= #training_dataVIC['2008-08-01 00:00:00':'2008-08-02 00:00:00']\n",
    "\n",
    "#training_dataQLDsarimax = #training_dataQLD['2008-08-01 00:00:00':'2008-08-02 00:00:00']\n",
    "#training_dataQLDARIMAx= training_dataQLD['2008-08-01 00:00:00':'2008-08-02 00:00:00']\n",
    "#training_dataQLDLR= #training_dataQLD['2008-08-01 00:00:00':'2008-08-02 00:00:00']#\n",
    "\n",
    "#training_dataSAsarimax= #training_dataSA['2008-08-01 00:00:00':'2008-08-02 00:00:00']\n",
    "#training_dataSAARIMAx= training_dataSA['2008-08-01 00:00:00':'2008-08-02 00:00:00']\n",
    "#training_dataSALR= #training_dataSA['2008-08-01 00:00:00':'2008-08-02 00:00:00']\n",
    "\n",
    "#training_dataTASsarimax= #training_dataTAS['2008-08-01 00:00:00':'2008-08-02 00:00:00']\n",
    "#training_dataTASARIMAx= training_dataTAS['2008-08-01 00:00:00':'2008-08-02 00:00:00']\n",
    "#training_dataTASLR= #training_dataTAS['2008-08-01 00:00:00':'2008-08-02 00:00:00']"
   ]
  },
  {
   "cell_type": "code",
   "execution_count": 605,
   "metadata": {},
   "outputs": [],
   "source": [
    "#list(simple_NSW_OUTPUT['pred'])"
   ]
  },
  {
   "cell_type": "code",
   "execution_count": 5,
   "metadata": {},
   "outputs": [],
   "source": [
    "#n would be the (frequency_of_decision_making_for_battery_in_minutes)/5\n",
    "#lst is the price that is predicted for the upcoming day. So, there should be 288 observations in lst. \n",
    "def list_divided_averages(lst, n):\n",
    "    list_divided = [lst[i:i + n] for i in range(0, len(lst), n)]\n",
    "    list_of_avrgs = []\n",
    "    for lisst in list_divided:\n",
    "        list_of_avrgs.append(round(sum(lisst) / len(lisst), 5))\n",
    "    return list_of_avrgs"
   ]
  },
  {
   "cell_type": "code",
   "execution_count": 6,
   "metadata": {},
   "outputs": [],
   "source": [
    "#price is the predicted prices (list format) for the upcoming 24 hours from our models. Hence, there should be 288 observations. \n",
    "#price = testing_dateTHAZSARIMAX_RES\n",
    "\n",
    "#the 60 in the second parameter below represents the frequency of update.\n",
    "def cost_coefficient_generator(price_predictions, frequency_of_update_in_min):\n",
    "    n = int(frequency_of_update_in_min/5)\n",
    "    cost_coefficients = list_divided_averages(list(training_dataNSW), n)\n",
    "    return cost_coefficients"
   ]
  },
  {
   "cell_type": "markdown",
   "metadata": {},
   "source": [
    "### If we decide to update our model every 1 hour then, we are making an assumption that the average of the prices of the 12 intervals of 5 minutes that went past is a good indicator of what the price was for that hour. "
   ]
  },
  {
   "cell_type": "code",
   "execution_count": null,
   "metadata": {},
   "outputs": [],
   "source": []
  },
  {
   "cell_type": "code",
   "execution_count": 339,
   "metadata": {},
   "outputs": [],
   "source": []
  },
  {
   "cell_type": "code",
   "execution_count": 49,
   "metadata": {},
   "outputs": [],
   "source": [
    "frequencyOUpdate = 5 #(in minutes) - For e.g frequencyOUpdate=60 for deciding every one hour if we want to charge or discharge.\n",
    "\n",
    "cost_coefficient_column=cost_coefficient_generator(list(training_dataNSW), frequencyOUpdate)"
   ]
  },
  {
   "cell_type": "code",
   "execution_count": 50,
   "metadata": {},
   "outputs": [
    {
     "data": {
      "text/plain": [
       "289"
      ]
     },
     "execution_count": 50,
     "metadata": {},
     "output_type": "execute_result"
    }
   ],
   "source": [
    "len(cost_coefficient_column)"
   ]
  },
  {
   "cell_type": "markdown",
   "metadata": {},
   "source": [
    "## Optimization model"
   ]
  },
  {
   "cell_type": "code",
   "execution_count": 67,
   "metadata": {},
   "outputs": [
    {
     "name": "stdout",
     "output_type": "stream",
     "text": [
      "Once deleted, variables cannot be recovered. Proceed (y/[n])?  y\n"
     ]
    }
   ],
   "source": [
    "%reset_selective model3"
   ]
  },
  {
   "cell_type": "code",
   "execution_count": 68,
   "metadata": {},
   "outputs": [],
   "source": [
    "#model3.reset()"
   ]
  },
  {
   "cell_type": "code",
   "execution_count": 69,
   "metadata": {},
   "outputs": [],
   "source": [
    "model3 = gp.Model()\n",
    "\n",
    "DischargeBattery2 = {}\n",
    "for h in range(0,len(cost_coefficient_column)):\n",
    "    DischargeBattery2[h] = model3.addVar(lb=0, ub=1,obj=cost_coefficient_column[h]*(1/60)*(frequencyOUpdate), vtype=GRB.CONTINUOUS)\n",
    "\n",
    "ChargeBattery2 = {}\n",
    "DispatchGen = {}\n",
    "for h in range(0,len(cost_coefficient_column)):\n",
    "    ChargeBattery2[h] = model3.addVar(lb=-1, ub=0,obj=1*cost_coefficient_column[h]*(1/60)*(frequencyOUpdate), vtype=GRB.CONTINUOUS)\n",
    "    DispatchGen[h] = model3.addVar(lb=0, ub=2, vtype = GRB.CONTINUOUS)\n",
    "\n",
    "#EnergyInStorage = {}\n",
    "#for m in range(0, len(cost_coefficient_column)+1):\n",
    "#    EnergyInStorage[h] = model3.addVar(lb=0, ub=2, vtype = GRB.CONTINUOUS)\n",
    "EnergyInStorage = [model3.addVar(lb=0, ub=2, vtype=GRB.CONTINUOUS) for h in range(0, len(cost_coefficient_column)+1)]\n",
    "\n",
    "model3.modelSense=GRB.MAXIMIZE\n",
    "model3.update()"
   ]
  },
  {
   "cell_type": "code",
   "execution_count": 70,
   "metadata": {},
   "outputs": [],
   "source": [
    "\n",
    "for h in range(0, len(cost_coefficient_column)-1):\n",
    "    model3.addConstr(EnergyInStorage[h] >= DischargeBattery2[h]*(frequencyOUpdate/60))\n",
    "    EnergyInStorage = [model3.addVar(lb=0, ub=2, vtype=GRB.CONTINUOUS)  for h in range(0, len(cost_coefficient_column)+1)]\n",
    "\n",
    "#model3.addConstr(EnergyInStorage[0] == 0)\n",
    "for h in range(0,len(cost_coefficient_column)):\n",
    "    model3.addConstr(EnergyInStorage[h+1] == EnergyInStorage[h] - 0.81*ChargeBattery2[h]*(frequencyOUpdate/60) - DischargeBattery2[h]*(frequencyOUpdate/60))\n",
    "\n",
    "\n",
    "for h in range(0, len(cost_coefficient_column)):\n",
    "    model3.addConstr(EnergyInStorage[h] <= 2)\n",
    "\n",
    "for h in range(0, len(cost_coefficient_column)):\n",
    "    model3.addConstr(DispatchGen[h] == DischargeBattery2[h] + ChargeBattery2[h])\n",
    "        "
   ]
  },
  {
   "cell_type": "code",
   "execution_count": 71,
   "metadata": {},
   "outputs": [
    {
     "name": "stdout",
     "output_type": "stream",
     "text": [
      "Gurobi Optimizer version 9.1.0 build v9.1.0rc0 (win64)\n",
      "Thread count: 2 physical cores, 4 logical processors, using up to 4 threads\n",
      "Optimize a model with 1155 rows, 84677 columns and 2888 nonzeros\n",
      "Model fingerprint: 0xb23f7120\n",
      "Coefficient statistics:\n",
      "  Matrix range     [7e-02, 1e+00]\n",
      "  Objective range  [2e+00, 9e+00]\n",
      "  Bounds range     [1e+00, 2e+00]\n",
      "  RHS range        [2e+00, 2e+00]\n",
      "Presolve removed 577 rows and 83809 columns\n",
      "Presolve time: 0.07s\n",
      "Presolved: 578 rows, 868 columns, 1734 nonzeros\n",
      "\n",
      "Iteration    Objective       Primal Inf.    Dual Inf.      Time\n",
      "       0    1.6782057e+03   2.915083e+03   0.000000e+00      0s\n",
      "     199    2.0508651e+02   0.000000e+00   0.000000e+00      0s\n",
      "\n",
      "Solved in 199 iterations and 0.13 seconds\n",
      "Optimal objective  2.050865100e+02\n"
     ]
    }
   ],
   "source": [
    "model3.optimize()"
   ]
  },
  {
   "cell_type": "code",
   "execution_count": 72,
   "metadata": {},
   "outputs": [
    {
     "data": {
      "text/plain": [
       "[0.0,\n",
       " 0.0,\n",
       " 0.0,\n",
       " 0.0,\n",
       " 0.0,\n",
       " 0.0,\n",
       " 0.0,\n",
       " 0.0,\n",
       " 0.0,\n",
       " 0.0,\n",
       " 0.0,\n",
       " 0.0,\n",
       " 0.0,\n",
       " 0.0,\n",
       " 0.0,\n",
       " 0.0,\n",
       " 0.0,\n",
       " 0.0,\n",
       " 0.0,\n",
       " 0.0,\n",
       " 0.0,\n",
       " 0.0,\n",
       " 0.0,\n",
       " 0.0]"
      ]
     },
     "execution_count": 72,
     "metadata": {},
     "output_type": "execute_result"
    }
   ],
   "source": [
    "[ DischargeBattery2[i].x  for i in range(0, 24)]"
   ]
  },
  {
   "cell_type": "code",
   "execution_count": 73,
   "metadata": {},
   "outputs": [
    {
     "data": {
      "text/plain": [
       "[0.0,\n",
       " 0.0,\n",
       " 0.0,\n",
       " 0.0,\n",
       " 0.0,\n",
       " 0.0,\n",
       " 0.0,\n",
       " 0.0,\n",
       " 0.0,\n",
       " 0.0,\n",
       " 0.0,\n",
       " 0.0,\n",
       " 0.0,\n",
       " 0.0,\n",
       " 0.0,\n",
       " 0.0,\n",
       " 0.0,\n",
       " 0.0,\n",
       " 0.0,\n",
       " 0.0,\n",
       " 0.0,\n",
       " 0.0,\n",
       " 0.0,\n",
       " 0.0]"
      ]
     },
     "execution_count": 73,
     "metadata": {},
     "output_type": "execute_result"
    }
   ],
   "source": [
    "[ChargeBattery2[i].x  for i in range(0, 24)]"
   ]
  },
  {
   "cell_type": "code",
   "execution_count": null,
   "metadata": {},
   "outputs": [],
   "source": []
  }
 ],
 "metadata": {
  "kernelspec": {
   "display_name": "Python 3",
   "language": "python",
   "name": "python3"
  },
  "language_info": {
   "codemirror_mode": {
    "name": "ipython",
    "version": 3
   },
   "file_extension": ".py",
   "mimetype": "text/x-python",
   "name": "python",
   "nbconvert_exporter": "python",
   "pygments_lexer": "ipython3",
   "version": "3.8.3"
  }
 },
 "nbformat": 4,
 "nbformat_minor": 4
}
