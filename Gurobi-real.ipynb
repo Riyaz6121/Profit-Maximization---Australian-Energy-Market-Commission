{
 "cells": [
  {
   "cell_type": "code",
   "execution_count": 1,
   "metadata": {},
   "outputs": [],
   "source": [
    "import gurobipy as gp"
   ]
  },
  {
   "cell_type": "code",
   "execution_count": 63,
   "metadata": {},
   "outputs": [],
   "source": [
    "import pandas as pd\n",
    "import matplotlib.pyplot as plt\n",
    "import numpy as np\n",
    "import gurobipy as gp\n",
    "from gurobipy import *"
   ]
  },
  {
   "cell_type": "code",
   "execution_count": 3,
   "metadata": {},
   "outputs": [],
   "source": [
    "training_dataNSW = pd.read_csv('C:/Users/User/Desktop/DATA3001/JUPYTERDATAOUTPUT/Sarimax NSW.csv')\n",
    "multi_NSW_OUTPUT = pd.read_csv('C:/Users/User/Desktop/DATA3001/JUPYTERDATAOUTPUT/multi.csv')\n",
    "simple_NSW_OUTPUT= pd.read_csv('C:/Users/User/Desktop/DATA3001/JUPYTERDATAOUTPUT/simple.csv')\n",
    "\n",
    "\n",
    "#training_dataQLD = pd.read_csv('C:/Users/User/Desktop/DATA3001/JUPYTERDATAOUTPUT/.csv')\n",
    "#training_dataVIC = pd.read_csv('C:/Users/User/Desktop/DATA3001/JUPYTERDATAOUTPUT/.csv')\n",
    "#training_dataSA = pd.read_csv('C:/Users/User/Desktop/DATA3001/JUPYTERDATAOUTPUT/.csv')\n",
    "#training_dataTAS = pd.read_csv('C:/Users/User/Desktop/DATA3001/JUPYTERDATAOUTPUT/.csv')"
   ]
  },
  {
   "cell_type": "code",
   "execution_count": 180,
   "metadata": {},
   "outputs": [
    {
     "data": {
      "text/plain": [
       "0      41.390768\n",
       "1      41.390769\n",
       "2      41.390775\n",
       "3      41.390751\n",
       "4      41.390718\n",
       "         ...    \n",
       "283    49.026049\n",
       "284    49.025989\n",
       "285    49.025984\n",
       "286    49.025954\n",
       "287    49.025870\n",
       "Name: pred, Length: 288, dtype: float64"
      ]
     },
     "execution_count": 180,
     "metadata": {},
     "output_type": "execute_result"
    }
   ],
   "source": [
    "#peaking window\n",
    "multi_NSW_OUTPUT['pred']"
   ]
  },
  {
   "cell_type": "code",
   "execution_count": 193,
   "metadata": {},
   "outputs": [
    {
     "data": {
      "text/plain": [
       "0      61.268761\n",
       "1      61.299725\n",
       "2      61.450602\n",
       "3      60.826583\n",
       "4      59.974770\n",
       "         ...    \n",
       "283    58.998508\n",
       "284    57.431755\n",
       "285    57.302967\n",
       "286    56.512688\n",
       "287    54.312646\n",
       "Name: pred, Length: 288, dtype: float64"
      ]
     },
     "execution_count": 193,
     "metadata": {},
     "output_type": "execute_result"
    }
   ],
   "source": [
    "#training_dataNSW.drop(['Unnamed: 0'], axis=1,inplace=True)\n",
    "#training_data1MonthNSW = training_dataNSW['2008-07-01 00:00:00':'2008-08-01 00:00:00']\n",
    "#testing_data1dayNSW = training_dataNSW['2016-07-02 00:00:05':'2016-10-02 00:00:05']\n",
    "#training_dataNSW['2008-07-01 00:00:00':'2008-08-01 00:00:00']\n",
    "\n",
    "simple_NSW_OUTPUT #= simple_NSW_OUTPUT['pred']\n"
   ]
  },
  {
   "cell_type": "code",
   "execution_count": 477,
   "metadata": {},
   "outputs": [],
   "source": [
    "training_dataNSWsarimax = training_dataNSW['2018-06-30 00:00:00':'2018-07-01 00:00:00']\n",
    "#training_dataNSWARIMAx = training_dataNSW['2016-07-02 00:00:05':'2016-10-03 00:00:05']\n",
    "#training_dataNSWLR = #training_dataNSW['2016-07-02 00:00:05':'2016-10-03 00:00:05']\n",
    "\n",
    "#training_dataVICsarimax= #training_dataVIC['2008-08-01 00:00:00':'2008-08-02 00:00:00']\n",
    "#training_dataVICARIMAx= training_dataVIC['2008-08-01 00:00:00':'2008-08-02 00:00:00']\n",
    "#training_dataVICLR= #training_dataVIC['2008-08-01 00:00:00':'2008-08-02 00:00:00']\n",
    "\n",
    "#training_dataQLDsarimax = #training_dataQLD['2008-08-01 00:00:00':'2008-08-02 00:00:00']\n",
    "#training_dataQLDARIMAx= training_dataQLD['2008-08-01 00:00:00':'2008-08-02 00:00:00']\n",
    "#training_dataQLDLR= #training_dataQLD['2008-08-01 00:00:00':'2008-08-02 00:00:00']#\n",
    "\n",
    "#training_dataSAsarimax= #training_dataSA['2008-08-01 00:00:00':'2008-08-02 00:00:00']\n",
    "#training_dataSAARIMAx= training_dataSA['2008-08-01 00:00:00':'2008-08-02 00:00:00']\n",
    "#training_dataSALR= #training_dataSA['2008-08-01 00:00:00':'2008-08-02 00:00:00']\n",
    "\n",
    "#training_dataTASsarimax= #training_dataTAS['2008-08-01 00:00:00':'2008-08-02 00:00:00']\n",
    "#training_dataTASARIMAx= training_dataTAS['2008-08-01 00:00:00':'2008-08-02 00:00:00']\n",
    "#training_dataTASLR= #training_dataTAS['2008-08-01 00:00:00':'2008-08-02 00:00:00']"
   ]
  },
  {
   "cell_type": "code",
   "execution_count": 605,
   "metadata": {},
   "outputs": [],
   "source": [
    "#list(simple_NSW_OUTPUT['pred'])"
   ]
  },
  {
   "cell_type": "code",
   "execution_count": 10,
   "metadata": {},
   "outputs": [],
   "source": [
    "#n would be the (frequency_of_decision_making_for_battery_in_minutes)/5\n",
    "#lst is the price that is predicted for the upcoming day. So, there should be 288 observations in lst. \n",
    "def list_divided_averages(lst, n):\n",
    "    list_divided = [lst[i:i + n] for i in range(0, len(lst), n)]\n",
    "    list_of_avrgs = []\n",
    "    for lisst in list_divided:\n",
    "        list_of_avrgs.append(round(sum(lisst) / len(lisst), 5))\n",
    "    return list_of_avrgs"
   ]
  },
  {
   "cell_type": "code",
   "execution_count": 11,
   "metadata": {},
   "outputs": [],
   "source": [
    "#price is the predicted prices (list format) for the upcoming 24 hours from our models. Hence, there should be 288 observations. \n",
    "#price = testing_dateTHAZSARIMAX_RES\n",
    "\n",
    "#the 60 in the second parameter below represents the frequency of update.\n",
    "def cost_coefficient_generator(price_predictions, frequency_of_update_in_min):\n",
    "    n = int(frequency_of_update_in_min/5)\n",
    "    cost_coefficients = list_divided_averages(list(price_predictions), n)\n",
    "    return cost_coefficients"
   ]
  },
  {
   "cell_type": "code",
   "execution_count": 254,
   "metadata": {},
   "outputs": [],
   "source": [
    "#IF WE ARE DETERMINING WHETHER TO CHARGE OR DISCHARGE EVERY 1 HOUR, then freq_update would be 60. Since 60/5=12, \n",
    "#then partition=12.\n",
    "#freq_update is how many 5 minute intervals are there within how long we take to update. \n",
    "#freq_update_minutes = frequency of update in minutes\n",
    "#partition = We are trying to divide the list inputted into the number of 5 minutes interval.            "
   ]
  },
  {
   "cell_type": "code",
   "execution_count": 569,
   "metadata": {},
   "outputs": [
    {
     "data": {
      "text/plain": [
       "[1, 2, 3, 4, 1, 2, 3, 4]"
      ]
     },
     "execution_count": 569,
     "metadata": {},
     "output_type": "execute_result"
    }
   ],
   "source": [
    "lst = [1,2,3,4]\n",
    "lst.extend(lst)\n",
    "lst"
   ]
  },
  {
   "cell_type": "markdown",
   "metadata": {},
   "source": [
    "###############################################################################################################################"
   ]
  },
  {
   "cell_type": "markdown",
   "metadata": {},
   "source": [
    "### If we decide to update our model every 1 hour then, we are making an assumption that the average of the prices of the 12 intervals of 5 minutes that went past is a good indicator of what the price was for that hour. "
   ]
  },
  {
   "cell_type": "code",
   "execution_count": 259,
   "metadata": {},
   "outputs": [],
   "source": [
    "price = price['target_RRP']"
   ]
  },
  {
   "cell_type": "code",
   "execution_count": 339,
   "metadata": {},
   "outputs": [],
   "source": [
    "sample1 = sample1['RRP']\n",
    "sample2 = sample2['RRP']\n",
    "sample3 = sample3['RRP']\n",
    "sample4 = sample4['RRP']"
   ]
  },
  {
   "cell_type": "code",
   "execution_count": 176,
   "metadata": {},
   "outputs": [
    {
     "data": {
      "text/plain": [
       "0      61.268761\n",
       "1      61.299725\n",
       "2      61.450602\n",
       "3      60.826583\n",
       "4      59.974770\n",
       "         ...    \n",
       "283    58.998508\n",
       "284    57.431755\n",
       "285    57.302967\n",
       "286    56.512688\n",
       "287    54.312646\n",
       "Name: pred, Length: 288, dtype: float64"
      ]
     },
     "execution_count": 176,
     "metadata": {},
     "output_type": "execute_result"
    }
   ],
   "source": [
    "simple_NSW_OUTPUT"
   ]
  },
  {
   "cell_type": "code",
   "execution_count": 269,
   "metadata": {},
   "outputs": [],
   "source": [
    "frequencyOUpdate = 60 #(in minutes) - For e.g frequencyOUpdate=60 for deciding every one hour if we want to charge or discharge.\n",
    "\n",
    "cost_coefficient_column=cost_coefficient_generator(list(simple_NSW_OUTPUT), frequencyOUpdate)"
   ]
  },
  {
   "cell_type": "code",
   "execution_count": null,
   "metadata": {},
   "outputs": [],
   "source": []
  },
  {
   "cell_type": "code",
   "execution_count": null,
   "metadata": {},
   "outputs": [],
   "source": []
  },
  {
   "cell_type": "code",
   "execution_count": 270,
   "metadata": {},
   "outputs": [
    {
     "data": {
      "text/plain": [
       "24"
      ]
     },
     "execution_count": 270,
     "metadata": {},
     "output_type": "execute_result"
    }
   ],
   "source": [
    "len(cost_coefficient_column)"
   ]
  },
  {
   "cell_type": "code",
   "execution_count": 271,
   "metadata": {},
   "outputs": [
    {
     "data": {
      "text/plain": [
       "[57.69553,\n",
       " 46.96775,\n",
       " 34.45634,\n",
       " 24.31985,\n",
       " 22.26741,\n",
       " 27.15574,\n",
       " 40.48915,\n",
       " 60.35288,\n",
       " 74.2413,\n",
       " 71.51048,\n",
       " 58.6973,\n",
       " 46.62976,\n",
       " 39.77065,\n",
       " 34.85329,\n",
       " 35.98191,\n",
       " 42.68582,\n",
       " 58.21628,\n",
       " 81.59717,\n",
       " 88.34341,\n",
       " 82.77028,\n",
       " 77.19372,\n",
       " 71.98365,\n",
       " 65.78585,\n",
       " 58.28552]"
      ]
     },
     "execution_count": 271,
     "metadata": {},
     "output_type": "execute_result"
    }
   ],
   "source": [
    "[cost_coefficient_column[x] for x in range(0, len(cost_coefficient_column))]"
   ]
  },
  {
   "cell_type": "markdown",
   "metadata": {},
   "source": [
    "## Optimization model"
   ]
  },
  {
   "cell_type": "code",
   "execution_count": 264,
   "metadata": {},
   "outputs": [
    {
     "data": {
      "text/plain": [
       "60"
      ]
     },
     "execution_count": 264,
     "metadata": {},
     "output_type": "execute_result"
    }
   ],
   "source": [
    "frequencyOUpdate"
   ]
  },
  {
   "cell_type": "code",
   "execution_count": 162,
   "metadata": {},
   "outputs": [
    {
     "name": "stdout",
     "output_type": "stream",
     "text": [
      "Once deleted, variables cannot be recovered. Proceed (y/[n])?  y\n"
     ]
    }
   ],
   "source": [
    "%reset_selective model6"
   ]
  },
  {
   "cell_type": "code",
   "execution_count": 272,
   "metadata": {},
   "outputs": [],
   "source": [
    "model6 = gp.Model()"
   ]
  },
  {
   "cell_type": "code",
   "execution_count": 273,
   "metadata": {},
   "outputs": [],
   "source": [
    "DischargeBattery26 = [model6.addVar(lb=0, ub=1,obj=cost_coefficient_column[h], vtype=GRB.CONTINUOUS) for h in range(0, len(cost_coefficient_column))]\n",
    "\n",
    "ChargeBattery26 = [model6.addVar(lb=-1, ub=0,obj=cost_coefficient_column[h], vtype=GRB.CONTINUOUS) for h in range(0, len(cost_coefficient_column))]\n",
    "\n",
    "EnergyInStorage6 = [model6.addVar(lb=0, ub=2, vtype = GRB.CONTINUOUS) for h in range(0, len(cost_coefficient_column)+1)]\n",
    "\n",
    "model6.update()"
   ]
  },
  {
   "cell_type": "code",
   "execution_count": 274,
   "metadata": {},
   "outputs": [],
   "source": [
    "model6.addConstr(EnergyInStorage6[0] == 0)\n",
    "for h in range(0,len(cost_coefficient_column)):\n",
    "    #model6.addConstr(EnergyInStorage6[h+1] == EnergyInStorage6[h] - 0.81*ChargeBattery26[h]*(frequencyOUpdate/60) - DischargeBattery26[h]*(frequencyOUpdate/60))\n",
    "    model6.addConstr(EnergyInStorage6[h+1] == EnergyInStorage6[h] - 0.81*ChargeBattery26[h]*(frequencyOUpdate/60) - DischargeBattery26[h]*(frequencyOUpdate/60))\n",
    "\n",
    "for h in range(0, len(cost_coefficient_column)+1):\n",
    "    model6.addConstr(EnergyInStorage6[h] <= 2)\n",
    "    \n",
    "for h in range(0, len(cost_coefficient_column)):\n",
    "    model6.addConstr(EnergyInStorage6[h+1] >= DischargeBattery26[h])\n",
    "    \n",
    "model6.modelSense=GRB.MAXIMIZE"
   ]
  },
  {
   "cell_type": "code",
   "execution_count": 275,
   "metadata": {},
   "outputs": [
    {
     "name": "stdout",
     "output_type": "stream",
     "text": [
      "Gurobi Optimizer version 9.1.0 build v9.1.0rc0 (win64)\n",
      "Thread count: 2 physical cores, 4 logical processors, using up to 4 threads\n",
      "Optimize a model with 74 rows, 73 columns and 170 nonzeros\n",
      "Model fingerprint: 0x48c6a1db\n",
      "Coefficient statistics:\n",
      "  Matrix range     [8e-01, 1e+00]\n",
      "  Objective range  [2e+01, 9e+01]\n",
      "  Bounds range     [1e+00, 2e+00]\n",
      "  RHS range        [2e+00, 2e+00]\n",
      "Presolve removed 29 rows and 4 columns\n",
      "Presolve time: 0.02s\n",
      "Presolved: 45 rows, 69 columns, 137 nonzeros\n",
      "\n",
      "Iteration    Objective       Primal Inf.    Dual Inf.      Time\n",
      "       0    1.1970984e+03   5.540500e+01   0.000000e+00      0s\n",
      "Extra simplex iterations after uncrush: 1\n",
      "      21    1.5208371e+02   0.000000e+00   0.000000e+00      0s\n",
      "\n",
      "Solved in 21 iterations and 0.03 seconds\n",
      "Optimal objective  1.520837057e+02\n"
     ]
    }
   ],
   "source": [
    "model6.optimize()"
   ]
  },
  {
   "cell_type": "code",
   "execution_count": 276,
   "metadata": {},
   "outputs": [
    {
     "data": {
      "text/plain": [
       "[0.0,\n",
       " 0.0,\n",
       " 0.0,\n",
       " -1.0,\n",
       " -1.0,\n",
       " -0.46913580246913567,\n",
       " 0.0,\n",
       " 0.0,\n",
       " 0.0,\n",
       " 0.0,\n",
       " 0.0,\n",
       " 0.0,\n",
       " -0.16049382716049365,\n",
       " -1.0,\n",
       " -1.0,\n",
       " 0.0,\n",
       " 0.0,\n",
       " 0.0,\n",
       " 0.0,\n",
       " 0.0,\n",
       " 0.0,\n",
       " 0.0,\n",
       " 0.0,\n",
       " 0.0]"
      ]
     },
     "execution_count": 276,
     "metadata": {},
     "output_type": "execute_result"
    }
   ],
   "source": [
    "[ChargeBattery26[i].x  for i in range(0, len(cost_coefficient_column))]"
   ]
  },
  {
   "cell_type": "code",
   "execution_count": 277,
   "metadata": {},
   "outputs": [
    {
     "data": {
      "text/plain": [
       "[0.0,\n",
       " 0.0,\n",
       " 0.0,\n",
       " 0.0,\n",
       " 0.0,\n",
       " 0.0,\n",
       " 0.0,\n",
       " 0.0,\n",
       " 1.0,\n",
       " 0.5,\n",
       " 0.25,\n",
       " 0.0,\n",
       " 0.0,\n",
       " 0.0,\n",
       " 0.0,\n",
       " 0.0,\n",
       " 0.0,\n",
       " 0.0,\n",
       " 1.0,\n",
       " 0.5,\n",
       " 0.25,\n",
       " 0.125,\n",
       " 0.0625,\n",
       " 0.03125]"
      ]
     },
     "execution_count": 277,
     "metadata": {},
     "output_type": "execute_result"
    }
   ],
   "source": [
    "[DischargeBattery26[i].x  for i in range(0, len(cost_coefficient_column))]"
   ]
  },
  {
   "cell_type": "code",
   "execution_count": 278,
   "metadata": {},
   "outputs": [
    {
     "data": {
      "text/plain": [
       "[57.69553,\n",
       " 46.96775,\n",
       " 34.45634,\n",
       " 24.31985,\n",
       " 22.26741,\n",
       " 27.15574,\n",
       " 40.48915,\n",
       " 60.35288,\n",
       " 74.2413,\n",
       " 71.51048,\n",
       " 58.6973,\n",
       " 46.62976,\n",
       " 39.77065,\n",
       " 34.85329,\n",
       " 35.98191,\n",
       " 42.68582,\n",
       " 58.21628,\n",
       " 81.59717,\n",
       " 88.34341,\n",
       " 82.77028,\n",
       " 77.19372,\n",
       " 71.98365,\n",
       " 65.78585,\n",
       " 58.28552]"
      ]
     },
     "execution_count": 278,
     "metadata": {},
     "output_type": "execute_result"
    }
   ],
   "source": [
    "cost_coefficient_column"
   ]
  },
  {
   "cell_type": "code",
   "execution_count": 279,
   "metadata": {},
   "outputs": [
    {
     "data": {
      "text/plain": [
       "[0.0,\n",
       " 0.0,\n",
       " 0.0,\n",
       " 0.0,\n",
       " 0.81,\n",
       " 1.62,\n",
       " 2.0,\n",
       " 2.0,\n",
       " 2.0,\n",
       " 1.0,\n",
       " 0.5,\n",
       " 0.25,\n",
       " 0.25,\n",
       " 0.3799999999999999,\n",
       " 1.19,\n",
       " 2.0,\n",
       " 2.0,\n",
       " 2.0,\n",
       " 2.0,\n",
       " 1.0,\n",
       " 0.5,\n",
       " 0.25,\n",
       " 0.125,\n",
       " 0.0625,\n",
       " 0.03125]"
      ]
     },
     "execution_count": 279,
     "metadata": {},
     "output_type": "execute_result"
    }
   ],
   "source": [
    "[EnergyInStorage6[i].x for i in range(0, len(cost_coefficient_column)+1)]"
   ]
  },
  {
   "cell_type": "code",
   "execution_count": 280,
   "metadata": {},
   "outputs": [
    {
     "data": {
      "text/plain": [
       "[0.0,\n",
       " 0.0,\n",
       " 0.0,\n",
       " -1.0,\n",
       " -1.0,\n",
       " -0.46913580246913567,\n",
       " 0.0,\n",
       " 0.0,\n",
       " 1.0,\n",
       " 0.5,\n",
       " 0.25,\n",
       " 0.0,\n",
       " -0.16049382716049365,\n",
       " -1.0,\n",
       " -1.0,\n",
       " 0.0,\n",
       " 0.0,\n",
       " 0.0,\n",
       " 1.0,\n",
       " 0.5,\n",
       " 0.25,\n",
       " 0.125,\n",
       " 0.0625,\n",
       " 0.03125]"
      ]
     },
     "execution_count": 280,
     "metadata": {},
     "output_type": "execute_result"
    }
   ],
   "source": [
    "[DischargeBattery26[i].x + ChargeBattery26[i].x for i in range(0, len(cost_coefficient_column))]"
   ]
  },
  {
   "cell_type": "markdown",
   "metadata": {},
   "source": [
    "### This is the profit generated, also known as the Optimal Objective value"
   ]
  },
  {
   "cell_type": "code",
   "execution_count": 281,
   "metadata": {},
   "outputs": [
    {
     "data": {
      "text/plain": [
       "<gurobi.LinExpr: 152.08370567129631>"
      ]
     },
     "execution_count": 281,
     "metadata": {},
     "output_type": "execute_result"
    }
   ],
   "source": [
    "quicksum(DischargeBattery26[h].X*cost_coefficient_column[h]+ChargeBattery26[h].X*cost_coefficient_column[h] for h in range(0, len(cost_coefficient_column)))"
   ]
  },
  {
   "cell_type": "code",
   "execution_count": null,
   "metadata": {},
   "outputs": [],
   "source": []
  },
  {
   "cell_type": "code",
   "execution_count": 282,
   "metadata": {},
   "outputs": [
    {
     "data": {
      "text/plain": [
       "<gurobi.LinExpr: 152.08370567129631>"
      ]
     },
     "execution_count": 282,
     "metadata": {},
     "output_type": "execute_result"
    }
   ],
   "source": [
    "quicksum(DischargeBattery26[h].X*cost_coefficient_column[h]+ChargeBattery26[h].X*cost_coefficient_column[h] for h in range(0, len(cost_coefficient_column)))"
   ]
  },
  {
   "cell_type": "code",
   "execution_count": 231,
   "metadata": {},
   "outputs": [],
   "source": [
    "ep=pd.DataFrame(columns=['Profit'])"
   ]
  },
  {
   "cell_type": "code",
   "execution_count": 232,
   "metadata": {},
   "outputs": [
    {
     "data": {
      "text/html": [
       "<div>\n",
       "<style scoped>\n",
       "    .dataframe tbody tr th:only-of-type {\n",
       "        vertical-align: middle;\n",
       "    }\n",
       "\n",
       "    .dataframe tbody tr th {\n",
       "        vertical-align: top;\n",
       "    }\n",
       "\n",
       "    .dataframe thead th {\n",
       "        text-align: right;\n",
       "    }\n",
       "</style>\n",
       "<table border=\"1\" class=\"dataframe\">\n",
       "  <thead>\n",
       "    <tr style=\"text-align: right;\">\n",
       "      <th></th>\n",
       "      <th>Profit</th>\n",
       "    </tr>\n",
       "  </thead>\n",
       "  <tbody>\n",
       "  </tbody>\n",
       "</table>\n",
       "</div>"
      ],
      "text/plain": [
       "Empty DataFrame\n",
       "Columns: [Profit]\n",
       "Index: []"
      ]
     },
     "execution_count": 232,
     "metadata": {},
     "output_type": "execute_result"
    }
   ],
   "source": [
    "ep"
   ]
  },
  {
   "cell_type": "code",
   "execution_count": 233,
   "metadata": {},
   "outputs": [],
   "source": [
    "ep = ep.append({'Profit':3}, ignore_index=True)\n",
    "ep = ep.append({'Profit':4}, ignore_index=True)\n",
    "ep = ep.append({'Profit':frequencyOUpdate}, ignore_index=True)"
   ]
  },
  {
   "cell_type": "code",
   "execution_count": 234,
   "metadata": {},
   "outputs": [
    {
     "data": {
      "text/html": [
       "<div>\n",
       "<style scoped>\n",
       "    .dataframe tbody tr th:only-of-type {\n",
       "        vertical-align: middle;\n",
       "    }\n",
       "\n",
       "    .dataframe tbody tr th {\n",
       "        vertical-align: top;\n",
       "    }\n",
       "\n",
       "    .dataframe thead th {\n",
       "        text-align: right;\n",
       "    }\n",
       "</style>\n",
       "<table border=\"1\" class=\"dataframe\">\n",
       "  <thead>\n",
       "    <tr style=\"text-align: right;\">\n",
       "      <th></th>\n",
       "      <th>Profit</th>\n",
       "    </tr>\n",
       "  </thead>\n",
       "  <tbody>\n",
       "    <tr>\n",
       "      <th>0</th>\n",
       "      <td>3</td>\n",
       "    </tr>\n",
       "    <tr>\n",
       "      <th>1</th>\n",
       "      <td>4</td>\n",
       "    </tr>\n",
       "    <tr>\n",
       "      <th>2</th>\n",
       "      <td>60</td>\n",
       "    </tr>\n",
       "  </tbody>\n",
       "</table>\n",
       "</div>"
      ],
      "text/plain": [
       "  Profit\n",
       "0      3\n",
       "1      4\n",
       "2     60"
      ]
     },
     "execution_count": 234,
     "metadata": {},
     "output_type": "execute_result"
    }
   ],
   "source": [
    "ep"
   ]
  },
  {
   "cell_type": "code",
   "execution_count": null,
   "metadata": {},
   "outputs": [],
   "source": []
  }
 ],
 "metadata": {
  "kernelspec": {
   "display_name": "Python 3",
   "language": "python",
   "name": "python3"
  },
  "language_info": {
   "codemirror_mode": {
    "name": "ipython",
    "version": 3
   },
   "file_extension": ".py",
   "mimetype": "text/x-python",
   "name": "python",
   "nbconvert_exporter": "python",
   "pygments_lexer": "ipython3",
   "version": "3.8.3"
  }
 },
 "nbformat": 4,
 "nbformat_minor": 4
}
